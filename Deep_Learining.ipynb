{
  "metadata": {
    "kernelspec": {
      "language": "python",
      "display_name": "Python 3",
      "name": "python3"
    },
    "language_info": {
      "pygments_lexer": "ipython3",
      "nbconvert_exporter": "python",
      "version": "3.6.4",
      "file_extension": ".py",
      "codemirror_mode": {
        "name": "ipython",
        "version": 3
      },
      "name": "python",
      "mimetype": "text/x-python"
    },
    "colab": {
      "provenance": [],
      "include_colab_link": true
    }
  },
  "nbformat_minor": 0,
  "nbformat": 4,
  "cells": [
    {
      "cell_type": "markdown",
      "metadata": {
        "id": "view-in-github",
        "colab_type": "text"
      },
      "source": [
        "<a href=\"https://colab.research.google.com/github/RaneenAlshehri/SDAIA-KAUST-AI-Bootcamp/blob/main/Deep_Learining.ipynb\" target=\"_parent\"><img src=\"https://colab.research.google.com/assets/colab-badge.svg\" alt=\"Open In Colab\"/></a>"
      ]
    },
    {
      "cell_type": "code",
      "source": [
        "# This Python 3 environment comes with many helpful analytics libraries installed\n",
        "# It is defined by the kaggle/python Docker image: https://github.com/kaggle/docker-python\n",
        "# For example, here's several helpful packages to load\n",
        "\n",
        "import numpy as np # linear algebra\n",
        "import pandas as pd # data processing, CSV file I/O (e.g. pd.read_csv)\n",
        "\n",
        "# Input data files are available in the read-only \"../input/\" directory\n",
        "# For example, running this (by clicking run or pressing Shift+Enter) will list all files under the input directory\n",
        "\n",
        "import os\n",
        "for dirname, _, filenames in os.walk('/kaggle/input'):\n",
        "    for filename in filenames:\n",
        "        print(os.path.join(dirname, filename))\n",
        "\n",
        "# You can write up to 20GB to the current directory (/kaggle/working/) that gets preserved as output when you create a version using \"Save & Run All\" \n",
        "# You can also write temporary files to /kaggle/temp/, but they won't be saved outside of the current session"
      ],
      "metadata": {
        "_cell_guid": "b1076dfc-b9ad-4769-8c92-a6c4dae69d19",
        "_uuid": "8f2839f25d086af736a60e9eeb907d3b93b6e0e5",
        "papermill": {
          "duration": 0.028721,
          "end_time": "2022-06-29T05:41:55.057094",
          "exception": false,
          "start_time": "2022-06-29T05:41:55.028373",
          "status": "completed"
        },
        "tags": [],
        "execution": {
          "iopub.status.busy": "2022-08-25T13:10:11.415097Z",
          "iopub.execute_input": "2022-08-25T13:10:11.415489Z",
          "iopub.status.idle": "2022-08-25T13:10:11.429531Z",
          "shell.execute_reply.started": "2022-08-25T13:10:11.415455Z",
          "shell.execute_reply": "2022-08-25T13:10:11.428019Z"
        },
        "trusted": true,
        "id": "fIcmxVVLNQAf"
      },
      "execution_count": null,
      "outputs": []
    },
    {
      "cell_type": "code",
      "source": [
        "import pathlib\n",
        "import matplotlib.pyplot as plt\n",
        "import numpy as np\n",
        "import pandas as pd\n",
        "\n",
        "import torch\n",
        "from torch import nn, optim\n",
        "from torch.nn import functional as F\n",
        "from torch.utils.data import Dataset, DataLoader\n",
        "from torchvision import models, transforms\n",
        "import torchmetrics\n",
        "\n",
        "import pathlib\n",
        "import matplotlib.pyplot as plt\n",
        "import numpy as np\n",
        "import pandas as pd\n",
        "\n",
        "import torch\n",
        "from torch import nn, optim\n",
        "from torch.nn import functional as F\n",
        "from torch.utils.data import Dataset, DataLoader\n",
        "from torchvision import models, transforms\n",
        "import torchmetrics\n",
        "from torch.utils.tensorboard import SummaryWriter\n",
        "\n",
        "\n"
      ],
      "metadata": {
        "papermill": {
          "duration": 12.639312,
          "end_time": "2022-06-29T05:42:07.701503",
          "exception": false,
          "start_time": "2022-06-29T05:41:55.062191",
          "status": "completed"
        },
        "tags": [],
        "execution": {
          "iopub.status.busy": "2022-08-25T13:10:11.431929Z",
          "iopub.execute_input": "2022-08-25T13:10:11.432942Z",
          "iopub.status.idle": "2022-08-25T13:10:11.443167Z",
          "shell.execute_reply.started": "2022-08-25T13:10:11.432895Z",
          "shell.execute_reply": "2022-08-25T13:10:11.442044Z"
        },
        "trusted": true,
        "id": "yEuhwkowNQAj"
      },
      "execution_count": null,
      "outputs": []
    },
    {
      "cell_type": "code",
      "source": [
        "DATA_DIR = pathlib.Path(\"../input/sdaia-kaust-ai-august-school-2022\")\n",
        "\n",
        "\n",
        "train_df = pd.read_csv(DATA_DIR / \"train.csv\", dtype=\"uint8\")\n",
        "test_df  = pd.read_csv(DATA_DIR / \"test.csv\", dtype=\"uint8\")\n",
        "\n",
        "\n",
        "train_features = train_df.drop(\"labels\", axis=1)\n",
        "train_target   = train_df.loc[:, \"labels\"]"
      ],
      "metadata": {
        "papermill": {
          "duration": 2.047293,
          "end_time": "2022-06-29T05:42:09.753474",
          "exception": false,
          "start_time": "2022-06-29T05:42:07.706181",
          "status": "completed"
        },
        "tags": [],
        "execution": {
          "iopub.status.busy": "2022-08-25T13:10:11.445707Z",
          "iopub.execute_input": "2022-08-25T13:10:11.446596Z",
          "iopub.status.idle": "2022-08-25T13:10:12.726385Z",
          "shell.execute_reply.started": "2022-08-25T13:10:11.446549Z",
          "shell.execute_reply": "2022-08-25T13:10:12.725081Z"
        },
        "trusted": true,
        "id": "CvqtS3FzNQAk"
      },
      "execution_count": null,
      "outputs": []
    },
    {
      "cell_type": "code",
      "source": [
        "class DataSetWithTransforms(Dataset):\n",
        "    \n",
        "    def __init__(self, features, target, feature_transforms=None):\n",
        "        super().__init__()\n",
        "        self._features = features\n",
        "        self._target = torch.from_numpy(target).long()\n",
        "        self._feature_transforms = feature_transforms\n",
        "        \n",
        "    def __getitem__(self, index):\n",
        "        if self._feature_transforms is None:\n",
        "            features = self._features[index]\n",
        "            #feature = torch.rashape(feature, (32,32,3))\n",
        "        else: \n",
        "            features = self._feature_transforms(self._features[index])\n",
        "        target = self._target[index]\n",
        "        return (features, target) \n",
        "    \n",
        "    def __len__(self):\n",
        "        n_samples, _ = self._features.shape\n",
        "        return n_samples"
      ],
      "metadata": {
        "papermill": {
          "duration": 0.019258,
          "end_time": "2022-06-29T05:42:09.77746",
          "exception": false,
          "start_time": "2022-06-29T05:42:09.758202",
          "status": "completed"
        },
        "tags": [],
        "execution": {
          "iopub.status.busy": "2022-08-25T13:10:12.729295Z",
          "iopub.execute_input": "2022-08-25T13:10:12.730011Z",
          "iopub.status.idle": "2022-08-25T13:10:12.739427Z",
          "shell.execute_reply.started": "2022-08-25T13:10:12.729967Z",
          "shell.execute_reply": "2022-08-25T13:10:12.738538Z"
        },
        "trusted": true,
        "id": "bL61ZPsQNQAl"
      },
      "execution_count": null,
      "outputs": []
    },
    {
      "cell_type": "code",
      "source": [
        "class DataSetTest(Dataset):\n",
        "    \n",
        "    def __init__(self, features, feature_transforms=None):\n",
        "        super().__init__()\n",
        "        self._features = features\n",
        "        self._feature_transforms = feature_transforms\n",
        "        \n",
        "    def __getitem__(self, index):\n",
        "        if self._feature_transforms is None:\n",
        "            features = self._features[index]\n",
        "            #feature = torch.rashape(feature, (32,32,3))\n",
        "        else: \n",
        "            features = self._feature_transforms(self._features[index])\n",
        "        return (features) \n",
        "    \n",
        "    def __len__(self):\n",
        "        n_samples, _ = self._features.shape\n",
        "        return n_samples"
      ],
      "metadata": {
        "papermill": {
          "duration": 0.017615,
          "end_time": "2022-06-29T05:42:09.79974",
          "exception": false,
          "start_time": "2022-06-29T05:42:09.782125",
          "status": "completed"
        },
        "tags": [],
        "execution": {
          "iopub.status.busy": "2022-08-25T13:10:12.741900Z",
          "iopub.execute_input": "2022-08-25T13:10:12.742247Z",
          "iopub.status.idle": "2022-08-25T13:10:12.752689Z",
          "shell.execute_reply.started": "2022-08-25T13:10:12.742217Z",
          "shell.execute_reply": "2022-08-25T13:10:12.751703Z"
        },
        "trusted": true,
        "id": "gdYoBTyzNQAm"
      },
      "execution_count": null,
      "outputs": []
    },
    {
      "cell_type": "code",
      "source": [
        "# data augmentation should only apply to training data\n",
        "_feature_transforms = transforms.Compose([\n",
        "    transforms.Lambda(lambda array: array.reshape((32, 32))),\n",
        "    transforms.ToPILImage(),\n",
        "    transforms.RandomAffine(degrees=15, translate=(0.1, 0.1), shear=15, scale=(1.0, 1.1)),\n",
        "    transforms.ToTensor(),\n",
        "])\n",
        "\n",
        "\n",
        "train_dataset = DataSetWithTransforms(train_features.values, train_target.values, _feature_transforms)"
      ],
      "metadata": {
        "papermill": {
          "duration": 0.017051,
          "end_time": "2022-06-29T05:42:09.821486",
          "exception": false,
          "start_time": "2022-06-29T05:42:09.804435",
          "status": "completed"
        },
        "tags": [],
        "execution": {
          "iopub.status.busy": "2022-08-25T13:10:12.754011Z",
          "iopub.execute_input": "2022-08-25T13:10:12.754791Z",
          "iopub.status.idle": "2022-08-25T13:10:12.770011Z",
          "shell.execute_reply.started": "2022-08-25T13:10:12.754758Z",
          "shell.execute_reply": "2022-08-25T13:10:12.769189Z"
        },
        "trusted": true,
        "id": "zLkhUfMkNQAm"
      },
      "execution_count": null,
      "outputs": []
    },
    {
      "cell_type": "code",
      "source": [
        "train_loader=DataLoader(train_dataset,4)"
      ],
      "metadata": {
        "papermill": {
          "duration": 0.013628,
          "end_time": "2022-06-29T05:42:09.839745",
          "exception": false,
          "start_time": "2022-06-29T05:42:09.826117",
          "status": "completed"
        },
        "tags": [],
        "execution": {
          "iopub.status.busy": "2022-08-25T13:10:12.771509Z",
          "iopub.execute_input": "2022-08-25T13:10:12.772019Z",
          "iopub.status.idle": "2022-08-25T13:10:12.780577Z",
          "shell.execute_reply.started": "2022-08-25T13:10:12.771982Z",
          "shell.execute_reply": "2022-08-25T13:10:12.779717Z"
        },
        "trusted": true,
        "id": "C4afmgSSNQAn"
      },
      "execution_count": null,
      "outputs": []
    },
    {
      "cell_type": "code",
      "source": [
        "for batch in train_loader:\n",
        "    print(batch[1].shape)"
      ],
      "metadata": {
        "papermill": {
          "duration": 4.473331,
          "end_time": "2022-06-29T05:42:14.317728",
          "exception": false,
          "start_time": "2022-06-29T05:42:09.844397",
          "status": "completed"
        },
        "tags": [],
        "execution": {
          "iopub.status.busy": "2022-08-25T13:10:12.781961Z",
          "iopub.execute_input": "2022-08-25T13:10:12.782355Z",
          "iopub.status.idle": "2022-08-25T13:10:17.086591Z",
          "shell.execute_reply.started": "2022-08-25T13:10:12.782324Z",
          "shell.execute_reply": "2022-08-25T13:10:17.085414Z"
        },
        "trusted": true,
        "id": "G6x1Z0hRNQAo"
      },
      "execution_count": null,
      "outputs": []
    },
    {
      "cell_type": "code",
      "source": [
        "# conveting test data only to tensor images should only apply to training data\n",
        "_feature_transforms_test = transforms.Compose([\n",
        "    transforms.Lambda(lambda array: array.reshape((32, 32))),\n",
        "    transforms.ToPILImage(),\n",
        "    transforms.ToTensor(),\n",
        "])\n",
        "\n",
        "test_dataset = DataSetTest(test_df.values, _feature_transforms_test)"
      ],
      "metadata": {
        "papermill": {
          "duration": 0.019163,
          "end_time": "2022-06-29T05:42:14.343198",
          "exception": false,
          "start_time": "2022-06-29T05:42:14.324035",
          "status": "completed"
        },
        "tags": [],
        "execution": {
          "iopub.status.busy": "2022-08-25T13:10:17.087799Z",
          "iopub.execute_input": "2022-08-25T13:10:17.088149Z",
          "iopub.status.idle": "2022-08-25T13:10:17.094552Z",
          "shell.execute_reply.started": "2022-08-25T13:10:17.088116Z",
          "shell.execute_reply": "2022-08-25T13:10:17.093364Z"
        },
        "trusted": true,
        "id": "GVWzpG2BNQAo"
      },
      "execution_count": null,
      "outputs": []
    },
    {
      "cell_type": "code",
      "source": [
        "test_loader=DataLoader(test_dataset,4)"
      ],
      "metadata": {
        "papermill": {
          "duration": 0.018443,
          "end_time": "2022-06-29T05:42:14.371324",
          "exception": false,
          "start_time": "2022-06-29T05:42:14.352881",
          "status": "completed"
        },
        "tags": [],
        "execution": {
          "iopub.status.busy": "2022-08-25T13:10:17.099125Z",
          "iopub.execute_input": "2022-08-25T13:10:17.099858Z",
          "iopub.status.idle": "2022-08-25T13:10:17.106798Z",
          "shell.execute_reply.started": "2022-08-25T13:10:17.099791Z",
          "shell.execute_reply": "2022-08-25T13:10:17.105553Z"
        },
        "trusted": true,
        "id": "n8n0gC3BNQAp"
      },
      "execution_count": null,
      "outputs": []
    },
    {
      "cell_type": "code",
      "source": [
        "for batch in test_loader:\n",
        "    print(batch.shape)\n",
        "    break"
      ],
      "metadata": {
        "papermill": {
          "duration": 0.577554,
          "end_time": "2022-06-29T05:42:14.959058",
          "exception": false,
          "start_time": "2022-06-29T05:42:14.381504",
          "status": "completed"
        },
        "tags": [],
        "execution": {
          "iopub.status.busy": "2022-08-25T13:10:17.108470Z",
          "iopub.execute_input": "2022-08-25T13:10:17.108878Z",
          "iopub.status.idle": "2022-08-25T13:10:17.118958Z",
          "shell.execute_reply.started": "2022-08-25T13:10:17.108845Z",
          "shell.execute_reply": "2022-08-25T13:10:17.117991Z"
        },
        "trusted": true,
        "id": "Ft8NW62UNQAp"
      },
      "execution_count": null,
      "outputs": []
    },
    {
      "cell_type": "code",
      "source": [
        "/ "
      ],
      "metadata": {
        "execution": {
          "iopub.status.busy": "2022-08-25T13:10:17.119988Z",
          "iopub.execute_input": "2022-08-25T13:10:17.120342Z",
          "iopub.status.idle": "2022-08-25T13:10:17.130861Z",
          "shell.execute_reply.started": "2022-08-25T13:10:17.120312Z",
          "shell.execute_reply": "2022-08-25T13:10:17.129964Z"
        },
        "trusted": true,
        "id": "NlsPP30kNQAp"
      },
      "execution_count": null,
      "outputs": []
    },
    {
      "cell_type": "code",
      "source": [
        "device=torch.device(\"cpu\")\n",
        "net=NeauralNetworks()\n",
        "net=net.to(device)\n",
        "\n",
        "optimizer=optim.SGD(net.parameters(),lr=0.03,momentum=0.5)\n",
        "\n",
        "num_epochs=80 \n",
        "\n",
        "los=[]\n",
        "\n",
        "\n",
        "for i in range(num_epochs):\n",
        "    total_loss=0\n",
        "    for batch in train_loader:\n",
        "        image=batch[0].to(device)\n",
        "        label=batch[1].to(device)\n",
        "    \n",
        "        logits=net(image) #DOING THE RTAINING THEN GETTIN\n",
        "        loss=F.cross_entropy(logits,label)\n",
        "        optimizer.zero_grad()\n",
        "        loss.backward()\n",
        "        optimizer.step()\n",
        "        total_loss+=loss.item()\n",
        "    \n",
        "    los.append(total_loss)\n",
        "    \n",
        "plt.plot(los)   \n",
        "\n",
        "      "
      ],
      "metadata": {
        "execution": {
          "iopub.status.busy": "2022-08-25T13:10:17.132245Z",
          "iopub.execute_input": "2022-08-25T13:10:17.132630Z",
          "iopub.status.idle": "2022-08-25T13:20:34.768657Z",
          "shell.execute_reply.started": "2022-08-25T13:10:17.132600Z",
          "shell.execute_reply": "2022-08-25T13:20:34.767570Z"
        },
        "trusted": true,
        "id": "BJaQu8BGNQAp"
      },
      "execution_count": null,
      "outputs": []
    },
    {
      "cell_type": "code",
      "source": [
        "prediction_list = list()\n",
        "with torch.no_grad():\n",
        "    for i,batch in enumerate(test_loader):\n",
        "        data=batch\n",
        "        data= data.to(device)\n",
        "        logits = net(data)\n",
        "        out=torch.argmax(logits, dim=1)\n",
        "        prediction_list.append(out)\n",
        "prediction_list = torch.cat(prediction_list).cpu()\n",
        "\n",
        "test_features = pd.read_csv(DATA_DIR / \"test.csv\")\n",
        "_ = (pd.DataFrame\n",
        "       .from_dict({\"Id\": test_features.index, \"Category\": prediction_list})\n",
        "       .to_csv(\"submission.csv\", index=False))"
      ],
      "metadata": {
        "execution": {
          "iopub.status.busy": "2022-08-25T13:20:34.770465Z",
          "iopub.execute_input": "2022-08-25T13:20:34.770795Z",
          "iopub.status.idle": "2022-08-25T13:20:35.789007Z",
          "shell.execute_reply.started": "2022-08-25T13:20:34.770765Z",
          "shell.execute_reply": "2022-08-25T13:20:35.787895Z"
        },
        "trusted": true,
        "id": "yIyGTVGPNQAq"
      },
      "execution_count": null,
      "outputs": []
    },
    {
      "cell_type": "code",
      "source": [],
      "metadata": {
        "id": "HU2t8oJwNQAq"
      },
      "execution_count": null,
      "outputs": []
    },
    {
      "cell_type": "code",
      "source": [],
      "metadata": {
        "id": "UqqbssfONQAq"
      },
      "execution_count": null,
      "outputs": []
    }
  ]
}