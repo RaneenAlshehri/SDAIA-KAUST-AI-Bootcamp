{
  "metadata": {
    "kernelspec": {
      "language": "python",
      "display_name": "Python 3",
      "name": "python3"
    },
    "language_info": {
      "pygments_lexer": "ipython3",
      "nbconvert_exporter": "python",
      "version": "3.6.4",
      "file_extension": ".py",
      "codemirror_mode": {
        "name": "ipython",
        "version": 3
      },
      "name": "python",
      "mimetype": "text/x-python"
    },
    "colab": {
      "provenance": [],
      "include_colab_link": true
    }
  },
  "nbformat_minor": 0,
  "nbformat": 4,
  "cells": [
    {
      "cell_type": "markdown",
      "metadata": {
        "id": "view-in-github",
        "colab_type": "text"
      },
      "source": [
        "<a href=\"https://colab.research.google.com/github/RaneenAlshehri/SDAIA-KAUST-AI-Bootcamp/blob/main/Machine_Learning_.ipynb\" target=\"_parent\"><img src=\"https://colab.research.google.com/assets/colab-badge.svg\" alt=\"Open In Colab\"/></a>"
      ]
    },
    {
      "cell_type": "code",
      "source": [
        "import pathlib\n",
        "import numpy as np\n",
        "import pandas as pd\n",
        "from sklearn import metrics, model_selection, tree"
      ],
      "metadata": {
        "_cell_guid": "b1076dfc-b9ad-4769-8c92-a6c4dae69d19",
        "_uuid": "8f2839f25d086af736a60e9eeb907d3b93b6e0e5",
        "papermill": {
          "duration": 1.234111,
          "end_time": "2022-06-30T03:49:28.504442",
          "exception": false,
          "start_time": "2022-06-30T03:49:27.270331",
          "status": "completed"
        },
        "tags": [],
        "execution": {
          "iopub.status.busy": "2022-08-25T07:15:53.430906Z",
          "iopub.execute_input": "2022-08-25T07:15:53.431747Z",
          "iopub.status.idle": "2022-08-25T07:15:53.448832Z",
          "shell.execute_reply.started": "2022-08-25T07:15:53.431649Z",
          "shell.execute_reply": "2022-08-25T07:15:53.447021Z"
        },
        "trusted": true,
        "id": "ssq5gpguAwyx"
      },
      "execution_count": null,
      "outputs": []
    },
    {
      "cell_type": "markdown",
      "source": [
        "# Load the data"
      ],
      "metadata": {
        "papermill": {
          "duration": 0.003192,
          "end_time": "2022-06-30T03:49:28.511446",
          "exception": false,
          "start_time": "2022-06-30T03:49:28.508254",
          "status": "completed"
        },
        "tags": [],
        "id": "pmyGn27FAwy1"
      }
    },
    {
      "cell_type": "code",
      "source": [
        "DATA_DIR = pathlib.Path(\"../input/sdaia-kaust-ai-august-school-2022\")\n",
        "\n",
        "# training data contains both features and labels\n",
        "train_df = pd.read_csv(DATA_DIR / \"train.csv\")\n",
        "\n",
        "# split training data into features and target\n",
        "train_features = train_df.drop(\"labels\", axis=1)\n",
        "train_target = train_df.loc[:, \"labels\"]\n",
        "\n",
        "# testing data contains only features\n",
        "test_features = pd.read_csv(DATA_DIR / \"test.csv\")"
      ],
      "metadata": {
        "papermill": {
          "duration": 1.67584,
          "end_time": "2022-06-30T03:49:30.190691",
          "exception": false,
          "start_time": "2022-06-30T03:49:28.514851",
          "status": "completed"
        },
        "tags": [],
        "execution": {
          "iopub.status.busy": "2022-08-25T07:15:53.455769Z",
          "iopub.execute_input": "2022-08-25T07:15:53.467046Z",
          "iopub.status.idle": "2022-08-25T07:15:55.041249Z",
          "shell.execute_reply.started": "2022-08-25T07:15:53.466950Z",
          "shell.execute_reply": "2022-08-25T07:15:55.039792Z"
        },
        "trusted": true,
        "id": "g8PA4Yd3Awy3"
      },
      "execution_count": null,
      "outputs": []
    },
    {
      "cell_type": "code",
      "source": [
        "train_features.head()"
      ],
      "metadata": {
        "papermill": {
          "duration": 0.029057,
          "end_time": "2022-06-30T03:49:30.224181",
          "exception": false,
          "start_time": "2022-06-30T03:49:30.195124",
          "status": "completed"
        },
        "tags": [],
        "execution": {
          "iopub.status.busy": "2022-08-25T07:15:55.042902Z",
          "iopub.execute_input": "2022-08-25T07:15:55.043436Z",
          "iopub.status.idle": "2022-08-25T07:15:55.065568Z",
          "shell.execute_reply.started": "2022-08-25T07:15:55.043395Z",
          "shell.execute_reply": "2022-08-25T07:15:55.064643Z"
        },
        "trusted": true,
        "id": "bHWUMz5SAwy4"
      },
      "execution_count": null,
      "outputs": []
    },
    {
      "cell_type": "code",
      "source": [
        "train_target.head()"
      ],
      "metadata": {
        "papermill": {
          "duration": 0.014522,
          "end_time": "2022-06-30T03:49:30.242753",
          "exception": false,
          "start_time": "2022-06-30T03:49:30.228231",
          "status": "completed"
        },
        "tags": [],
        "execution": {
          "iopub.status.busy": "2022-08-25T07:15:55.068002Z",
          "iopub.execute_input": "2022-08-25T07:15:55.068642Z",
          "iopub.status.idle": "2022-08-25T07:15:55.093883Z",
          "shell.execute_reply.started": "2022-08-25T07:15:55.068601Z",
          "shell.execute_reply": "2022-08-25T07:15:55.092680Z"
        },
        "trusted": true,
        "id": "gYg8Wu73Awy4"
      },
      "execution_count": null,
      "outputs": []
    },
    {
      "cell_type": "code",
      "source": [
        "test_features.head()"
      ],
      "metadata": {
        "papermill": {
          "duration": 0.024734,
          "end_time": "2022-06-30T03:49:30.271551",
          "exception": false,
          "start_time": "2022-06-30T03:49:30.246817",
          "status": "completed"
        },
        "tags": [],
        "execution": {
          "iopub.status.busy": "2022-08-25T07:15:55.095860Z",
          "iopub.execute_input": "2022-08-25T07:15:55.096793Z",
          "iopub.status.idle": "2022-08-25T07:15:55.121354Z",
          "shell.execute_reply.started": "2022-08-25T07:15:55.096682Z",
          "shell.execute_reply": "2022-08-25T07:15:55.119868Z"
        },
        "trusted": true,
        "id": "ruiXIKeJAwy5"
      },
      "execution_count": null,
      "outputs": []
    },
    {
      "cell_type": "markdown",
      "source": [
        "# Create an estimator"
      ],
      "metadata": {
        "papermill": {
          "duration": 0.003929,
          "end_time": "2022-06-30T03:49:30.279741",
          "exception": false,
          "start_time": "2022-06-30T03:49:30.275812",
          "status": "completed"
        },
        "tags": [],
        "id": "WBwPGLHfAwy5"
      }
    },
    {
      "cell_type": "code",
      "source": [
        "from sklearn.ensemble import RandomForestClassifier\n",
        "_seed = 0\n",
        "_estimator_hyperpararmeters = {\n",
        "    \"random_state\": np.random.RandomState(_seed),\n",
        "}\n",
        "\n",
        "estimator = RandomForestClassifier(**_estimator_hyperpararmeters)"
      ],
      "metadata": {
        "papermill": {
          "duration": 0.01381,
          "end_time": "2022-06-30T03:49:30.297734",
          "exception": false,
          "start_time": "2022-06-30T03:49:30.283924",
          "status": "completed"
        },
        "tags": [],
        "execution": {
          "iopub.status.busy": "2022-08-25T07:15:55.123096Z",
          "iopub.execute_input": "2022-08-25T07:15:55.124384Z",
          "iopub.status.idle": "2022-08-25T07:15:55.132102Z",
          "shell.execute_reply.started": "2022-08-25T07:15:55.124333Z",
          "shell.execute_reply": "2022-08-25T07:15:55.130882Z"
        },
        "trusted": true,
        "id": "hI-HIkgxAwy5"
      },
      "execution_count": null,
      "outputs": []
    },
    {
      "cell_type": "code",
      "source": [
        "estimator.fit(train_features, train_target)"
      ],
      "metadata": {
        "papermill": {
          "duration": 3.444631,
          "end_time": "2022-06-30T03:49:33.7467",
          "exception": false,
          "start_time": "2022-06-30T03:49:30.302069",
          "status": "completed"
        },
        "tags": [],
        "execution": {
          "iopub.status.busy": "2022-08-25T07:15:55.133713Z",
          "iopub.execute_input": "2022-08-25T07:15:55.134156Z",
          "iopub.status.idle": "2022-08-25T07:16:08.995128Z",
          "shell.execute_reply.started": "2022-08-25T07:15:55.134120Z",
          "shell.execute_reply": "2022-08-25T07:16:08.993767Z"
        },
        "trusted": true,
        "id": "6T2iU6i6Awy6"
      },
      "execution_count": null,
      "outputs": []
    },
    {
      "cell_type": "code",
      "source": [
        "scores = model_selection.cross_val_score(\n",
        "    estimator,\n",
        "    train_features,\n",
        "    train_target,\n",
        "    cv=5,\n",
        "    scoring=\"accuracy\",\n",
        "    n_jobs=-1,\n",
        ")"
      ],
      "metadata": {
        "papermill": {
          "duration": 8.652395,
          "end_time": "2022-06-30T03:49:42.403564",
          "exception": false,
          "start_time": "2022-06-30T03:49:33.751169",
          "status": "completed"
        },
        "tags": [],
        "execution": {
          "iopub.status.busy": "2022-08-25T07:16:08.996785Z",
          "iopub.execute_input": "2022-08-25T07:16:08.997180Z",
          "iopub.status.idle": "2022-08-25T07:16:33.560873Z",
          "shell.execute_reply.started": "2022-08-25T07:16:08.997147Z",
          "shell.execute_reply": "2022-08-25T07:16:33.559440Z"
        },
        "trusted": true,
        "id": "C0A6gRnKAwy6"
      },
      "execution_count": null,
      "outputs": []
    },
    {
      "cell_type": "code",
      "source": [
        "print(f\"Estimated validation error: {scores.mean()}\")"
      ],
      "metadata": {
        "papermill": {
          "duration": 0.014341,
          "end_time": "2022-06-30T03:49:42.42231",
          "exception": false,
          "start_time": "2022-06-30T03:49:42.407969",
          "status": "completed"
        },
        "tags": [],
        "execution": {
          "iopub.status.busy": "2022-08-25T07:16:33.563173Z",
          "iopub.execute_input": "2022-08-25T07:16:33.563547Z",
          "iopub.status.idle": "2022-08-25T07:16:33.570095Z",
          "shell.execute_reply.started": "2022-08-25T07:16:33.563512Z",
          "shell.execute_reply": "2022-08-25T07:16:33.568851Z"
        },
        "trusted": true,
        "id": "-1mddDWYAwy7"
      },
      "execution_count": null,
      "outputs": []
    },
    {
      "cell_type": "markdown",
      "source": [
        "# Make predictions"
      ],
      "metadata": {
        "papermill": {
          "duration": 0.004608,
          "end_time": "2022-06-30T03:49:42.432156",
          "exception": false,
          "start_time": "2022-06-30T03:49:42.427548",
          "status": "completed"
        },
        "tags": [],
        "id": "yQUsnn8BAwy7"
      }
    },
    {
      "cell_type": "code",
      "source": [
        "# assess the error on the training data\n",
        "train_predictions = estimator.predict(train_features)\n",
        "_report = metrics.classification_report(\n",
        "    train_target,\n",
        "    train_predictions\n",
        ")\n",
        "print(_report)"
      ],
      "metadata": {
        "papermill": {
          "duration": 0.1113,
          "end_time": "2022-06-30T03:49:42.547953",
          "exception": false,
          "start_time": "2022-06-30T03:49:42.436653",
          "status": "completed"
        },
        "tags": [],
        "execution": {
          "iopub.status.busy": "2022-08-25T07:16:33.575461Z",
          "iopub.execute_input": "2022-08-25T07:16:33.576573Z",
          "iopub.status.idle": "2022-08-25T07:16:34.540094Z",
          "shell.execute_reply.started": "2022-08-25T07:16:33.576517Z",
          "shell.execute_reply": "2022-08-25T07:16:34.538585Z"
        },
        "trusted": true,
        "id": "xER2Jv4KAwy7"
      },
      "execution_count": null,
      "outputs": []
    },
    {
      "cell_type": "code",
      "source": [
        "# predict using the test data\n",
        "test_predictions = estimator.predict(test_features)"
      ],
      "metadata": {
        "papermill": {
          "duration": 0.036438,
          "end_time": "2022-06-30T03:49:42.589038",
          "exception": false,
          "start_time": "2022-06-30T03:49:42.5526",
          "status": "completed"
        },
        "tags": [],
        "execution": {
          "iopub.status.busy": "2022-08-25T07:16:34.541844Z",
          "iopub.execute_input": "2022-08-25T07:16:34.542364Z",
          "iopub.status.idle": "2022-08-25T07:16:34.796898Z",
          "shell.execute_reply.started": "2022-08-25T07:16:34.542322Z",
          "shell.execute_reply": "2022-08-25T07:16:34.795632Z"
        },
        "trusted": true,
        "id": "8vm9_gmyAwy8"
      },
      "execution_count": null,
      "outputs": []
    },
    {
      "cell_type": "code",
      "source": [
        "import matplotlib.pyplot as plt \n",
        "plt.imshow(test_features.values[0].reshape(32,32).transpose(1,0))"
      ],
      "metadata": {
        "execution": {
          "iopub.status.busy": "2022-08-25T07:16:34.800103Z",
          "iopub.execute_input": "2022-08-25T07:16:34.800931Z",
          "iopub.status.idle": "2022-08-25T07:16:35.554412Z",
          "shell.execute_reply.started": "2022-08-25T07:16:34.800879Z",
          "shell.execute_reply": "2022-08-25T07:16:35.552708Z"
        },
        "trusted": true,
        "id": "yWEoQ7MnAwy8"
      },
      "execution_count": null,
      "outputs": []
    },
    {
      "cell_type": "markdown",
      "source": [
        "# Generate a submission file"
      ],
      "metadata": {
        "papermill": {
          "duration": 0.004532,
          "end_time": "2022-06-30T03:49:42.598165",
          "exception": false,
          "start_time": "2022-06-30T03:49:42.593633",
          "status": "completed"
        },
        "tags": [],
        "id": "DHDxpa5MAwy8"
      }
    },
    {
      "cell_type": "code",
      "source": [
        "_ = (pd.DataFrame\n",
        "       .from_dict({\"Id\": test_features.index, \"Category\": test_predictions})\n",
        "       .to_csv(\"submission.csv\", index=False))"
      ],
      "metadata": {
        "papermill": {
          "duration": 0.024053,
          "end_time": "2022-06-30T03:49:42.626888",
          "exception": false,
          "start_time": "2022-06-30T03:49:42.602835",
          "status": "completed"
        },
        "tags": [],
        "execution": {
          "iopub.status.busy": "2022-08-25T07:16:35.556312Z",
          "iopub.execute_input": "2022-08-25T07:16:35.556810Z",
          "iopub.status.idle": "2022-08-25T07:16:35.571970Z",
          "shell.execute_reply.started": "2022-08-25T07:16:35.556770Z",
          "shell.execute_reply": "2022-08-25T07:16:35.570549Z"
        },
        "trusted": true,
        "id": "uiKwTZQAAwy8"
      },
      "execution_count": null,
      "outputs": []
    },
    {
      "cell_type": "code",
      "source": [],
      "metadata": {
        "papermill": {
          "duration": 0.004413,
          "end_time": "2022-06-30T03:49:42.636178",
          "exception": false,
          "start_time": "2022-06-30T03:49:42.631765",
          "status": "completed"
        },
        "tags": [],
        "id": "tPmAC8zGAwy9"
      },
      "execution_count": null,
      "outputs": []
    }
  ]
}